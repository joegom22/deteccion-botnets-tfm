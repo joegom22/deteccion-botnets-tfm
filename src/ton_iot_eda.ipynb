{
 "cells": [
  {
   "cell_type": "code",
   "execution_count": 2,
   "id": "53901c41",
   "metadata": {},
   "outputs": [],
   "source": [
    "# import reuiqred libraries and data loader\n",
    "import pandas as pd\n",
    "import numpy as np\n",
    "import matplotlib.pyplot as plt\n",
    "import seaborn as sns\n",
    "import os\n",
    "from sklearn.model_selection import train_test_split\n",
    "from sklearn.preprocessing import StandardScaler, OneHotEncoder\n",
    "from sklearn.compose import ColumnTransformer\n",
    "from sklearn.pipeline import Pipeline\n",
    "from sklearn.impute import SimpleImputer\n",
    "from sklearn.ensemble import RandomForestClassifier\n",
    "from sklearn.metrics import classification_report, confusion_matrix\n",
    "from DataLoader import DataLoader\n",
    "from DataProcessor import DataProcessor\n",
    "\n",
    "Loader = DataLoader()"
   ]
  },
  {
   "cell_type": "code",
   "execution_count": 3,
   "id": "44657f99",
   "metadata": {},
   "outputs": [
    {
     "name": "stderr",
     "output_type": "stream",
     "text": [
      "2025-08-25 00:54:03,558 - INFO - CSV file loaded successfully:           src_ip  src_port         dst_ip  dst_port proto service  \\\n",
      "0    3.122.49.24      1883  192.168.1.152     52976   tcp       -   \n",
      "1   192.168.1.79     47260  192.168.1.255     15600   udp       -   \n",
      "2  192.168.1.152      1880  192.168.1.152     51782   tcp       -   \n",
      "3  192.168.1.152     34296  192.168.1.152     10502   tcp       -   \n",
      "4  192.168.1.152     46608  192.168.1.190        53   udp     dns   \n",
      "\n",
      "       duration src_bytes  dst_bytes conn_state  ...  http_response_body_len  \\\n",
      "0  80549.530260   1762852   41933215        OTH  ...                       0   \n",
      "1      0.000000         0          0         S0  ...                       0   \n",
      "2      0.000000         0          0        OTH  ...                       0   \n",
      "3      0.000000         0          0        OTH  ...                       0   \n",
      "4      0.000549         0        298        SHR  ...                       0   \n",
      "\n",
      "   http_status_code  http_user_agent  http_orig_mime_types  \\\n",
      "0                 0                -                     -   \n",
      "1                 0                -                     -   \n",
      "2                 0                -                     -   \n",
      "3                 0                -                     -   \n",
      "4                 0                -                     -   \n",
      "\n",
      "   http_resp_mime_types        weird_name  weird_addl  weird_notice  label  \\\n",
      "0                     -  bad_TCP_checksum           -             F      0   \n",
      "1                     -                 -           -             -      0   \n",
      "2                     -  bad_TCP_checksum           -             F      0   \n",
      "3                     -                 -           -             -      0   \n",
      "4                     -  bad_UDP_checksum           -             F      0   \n",
      "\n",
      "     type  \n",
      "0  normal  \n",
      "1  normal  \n",
      "2  normal  \n",
      "3  normal  \n",
      "4  normal  \n",
      "\n",
      "[5 rows x 45 columns]\n"
     ]
    }
   ],
   "source": [
    "df = Loader.load_dataset(\"C:/Users/PcVip/Downloads/Network_dataset_1.csv\", file_type=\"csv\")"
   ]
  },
  {
   "cell_type": "code",
   "execution_count": 4,
   "id": "4a3673ff",
   "metadata": {},
   "outputs": [
    {
     "data": {
      "text/html": [
       "<div>\n",
       "<style scoped>\n",
       "    .dataframe tbody tr th:only-of-type {\n",
       "        vertical-align: middle;\n",
       "    }\n",
       "\n",
       "    .dataframe tbody tr th {\n",
       "        vertical-align: top;\n",
       "    }\n",
       "\n",
       "    .dataframe thead th {\n",
       "        text-align: right;\n",
       "    }\n",
       "</style>\n",
       "<table border=\"1\" class=\"dataframe\">\n",
       "  <thead>\n",
       "    <tr style=\"text-align: right;\">\n",
       "      <th></th>\n",
       "      <th>src_ip</th>\n",
       "      <th>src_port</th>\n",
       "      <th>dst_ip</th>\n",
       "      <th>dst_port</th>\n",
       "      <th>proto</th>\n",
       "      <th>service</th>\n",
       "      <th>duration</th>\n",
       "      <th>src_bytes</th>\n",
       "      <th>dst_bytes</th>\n",
       "      <th>conn_state</th>\n",
       "      <th>...</th>\n",
       "      <th>http_response_body_len</th>\n",
       "      <th>http_status_code</th>\n",
       "      <th>http_user_agent</th>\n",
       "      <th>http_orig_mime_types</th>\n",
       "      <th>http_resp_mime_types</th>\n",
       "      <th>weird_name</th>\n",
       "      <th>weird_addl</th>\n",
       "      <th>weird_notice</th>\n",
       "      <th>label</th>\n",
       "      <th>type</th>\n",
       "    </tr>\n",
       "  </thead>\n",
       "  <tbody>\n",
       "    <tr>\n",
       "      <th>0</th>\n",
       "      <td>3.122.49.24</td>\n",
       "      <td>1883</td>\n",
       "      <td>192.168.1.152</td>\n",
       "      <td>52976</td>\n",
       "      <td>tcp</td>\n",
       "      <td>-</td>\n",
       "      <td>80549.530260</td>\n",
       "      <td>1762852</td>\n",
       "      <td>41933215</td>\n",
       "      <td>OTH</td>\n",
       "      <td>...</td>\n",
       "      <td>0</td>\n",
       "      <td>0</td>\n",
       "      <td>-</td>\n",
       "      <td>-</td>\n",
       "      <td>-</td>\n",
       "      <td>bad_TCP_checksum</td>\n",
       "      <td>-</td>\n",
       "      <td>F</td>\n",
       "      <td>0</td>\n",
       "      <td>normal</td>\n",
       "    </tr>\n",
       "    <tr>\n",
       "      <th>1</th>\n",
       "      <td>192.168.1.79</td>\n",
       "      <td>47260</td>\n",
       "      <td>192.168.1.255</td>\n",
       "      <td>15600</td>\n",
       "      <td>udp</td>\n",
       "      <td>-</td>\n",
       "      <td>0.000000</td>\n",
       "      <td>0</td>\n",
       "      <td>0</td>\n",
       "      <td>S0</td>\n",
       "      <td>...</td>\n",
       "      <td>0</td>\n",
       "      <td>0</td>\n",
       "      <td>-</td>\n",
       "      <td>-</td>\n",
       "      <td>-</td>\n",
       "      <td>-</td>\n",
       "      <td>-</td>\n",
       "      <td>-</td>\n",
       "      <td>0</td>\n",
       "      <td>normal</td>\n",
       "    </tr>\n",
       "    <tr>\n",
       "      <th>2</th>\n",
       "      <td>192.168.1.152</td>\n",
       "      <td>1880</td>\n",
       "      <td>192.168.1.152</td>\n",
       "      <td>51782</td>\n",
       "      <td>tcp</td>\n",
       "      <td>-</td>\n",
       "      <td>0.000000</td>\n",
       "      <td>0</td>\n",
       "      <td>0</td>\n",
       "      <td>OTH</td>\n",
       "      <td>...</td>\n",
       "      <td>0</td>\n",
       "      <td>0</td>\n",
       "      <td>-</td>\n",
       "      <td>-</td>\n",
       "      <td>-</td>\n",
       "      <td>bad_TCP_checksum</td>\n",
       "      <td>-</td>\n",
       "      <td>F</td>\n",
       "      <td>0</td>\n",
       "      <td>normal</td>\n",
       "    </tr>\n",
       "    <tr>\n",
       "      <th>3</th>\n",
       "      <td>192.168.1.152</td>\n",
       "      <td>34296</td>\n",
       "      <td>192.168.1.152</td>\n",
       "      <td>10502</td>\n",
       "      <td>tcp</td>\n",
       "      <td>-</td>\n",
       "      <td>0.000000</td>\n",
       "      <td>0</td>\n",
       "      <td>0</td>\n",
       "      <td>OTH</td>\n",
       "      <td>...</td>\n",
       "      <td>0</td>\n",
       "      <td>0</td>\n",
       "      <td>-</td>\n",
       "      <td>-</td>\n",
       "      <td>-</td>\n",
       "      <td>-</td>\n",
       "      <td>-</td>\n",
       "      <td>-</td>\n",
       "      <td>0</td>\n",
       "      <td>normal</td>\n",
       "    </tr>\n",
       "    <tr>\n",
       "      <th>4</th>\n",
       "      <td>192.168.1.152</td>\n",
       "      <td>46608</td>\n",
       "      <td>192.168.1.190</td>\n",
       "      <td>53</td>\n",
       "      <td>udp</td>\n",
       "      <td>dns</td>\n",
       "      <td>0.000549</td>\n",
       "      <td>0</td>\n",
       "      <td>298</td>\n",
       "      <td>SHR</td>\n",
       "      <td>...</td>\n",
       "      <td>0</td>\n",
       "      <td>0</td>\n",
       "      <td>-</td>\n",
       "      <td>-</td>\n",
       "      <td>-</td>\n",
       "      <td>bad_UDP_checksum</td>\n",
       "      <td>-</td>\n",
       "      <td>F</td>\n",
       "      <td>0</td>\n",
       "      <td>normal</td>\n",
       "    </tr>\n",
       "  </tbody>\n",
       "</table>\n",
       "<p>5 rows × 45 columns</p>\n",
       "</div>"
      ],
      "text/plain": [
       "          src_ip  src_port         dst_ip  dst_port proto service  \\\n",
       "0    3.122.49.24      1883  192.168.1.152     52976   tcp       -   \n",
       "1   192.168.1.79     47260  192.168.1.255     15600   udp       -   \n",
       "2  192.168.1.152      1880  192.168.1.152     51782   tcp       -   \n",
       "3  192.168.1.152     34296  192.168.1.152     10502   tcp       -   \n",
       "4  192.168.1.152     46608  192.168.1.190        53   udp     dns   \n",
       "\n",
       "       duration src_bytes  dst_bytes conn_state  ...  http_response_body_len  \\\n",
       "0  80549.530260   1762852   41933215        OTH  ...                       0   \n",
       "1      0.000000         0          0         S0  ...                       0   \n",
       "2      0.000000         0          0        OTH  ...                       0   \n",
       "3      0.000000         0          0        OTH  ...                       0   \n",
       "4      0.000549         0        298        SHR  ...                       0   \n",
       "\n",
       "   http_status_code  http_user_agent  http_orig_mime_types  \\\n",
       "0                 0                -                     -   \n",
       "1                 0                -                     -   \n",
       "2                 0                -                     -   \n",
       "3                 0                -                     -   \n",
       "4                 0                -                     -   \n",
       "\n",
       "   http_resp_mime_types        weird_name  weird_addl  weird_notice  label  \\\n",
       "0                     -  bad_TCP_checksum           -             F      0   \n",
       "1                     -                 -           -             -      0   \n",
       "2                     -  bad_TCP_checksum           -             F      0   \n",
       "3                     -                 -           -             -      0   \n",
       "4                     -  bad_UDP_checksum           -             F      0   \n",
       "\n",
       "     type  \n",
       "0  normal  \n",
       "1  normal  \n",
       "2  normal  \n",
       "3  normal  \n",
       "4  normal  \n",
       "\n",
       "[5 rows x 45 columns]"
      ]
     },
     "execution_count": 4,
     "metadata": {},
     "output_type": "execute_result"
    }
   ],
   "source": [
    "df.head()"
   ]
  },
  {
   "cell_type": "code",
   "execution_count": 5,
   "id": "30eaba38",
   "metadata": {},
   "outputs": [
    {
     "data": {
      "text/plain": [
       "type\n",
       "scanning    791321\n",
       "normal      208679\n",
       "Name: count, dtype: int64"
      ]
     },
     "execution_count": 5,
     "metadata": {},
     "output_type": "execute_result"
    }
   ],
   "source": [
    "df[\"type\"].value_counts()"
   ]
  },
  {
   "cell_type": "code",
   "execution_count": 6,
   "id": "9c3135aa",
   "metadata": {},
   "outputs": [
    {
     "name": "stderr",
     "output_type": "stream",
     "text": [
      "2025-08-25 00:54:04,741 - INFO - Dataset cleaned successfully. 124934 rows have been removed.\n"
     ]
    }
   ],
   "source": [
    "df = Loader.clean_dataset(df)"
   ]
  },
  {
   "cell_type": "code",
   "execution_count": null,
   "id": "c5b5dda8",
   "metadata": {},
   "outputs": [],
   "source": [
    "df[\"type\"].value_counts()"
   ]
  },
  {
   "cell_type": "code",
   "execution_count": null,
   "id": "17834064",
   "metadata": {},
   "outputs": [],
   "source": [
    "# Show dataframe columns\n",
    "df.columns"
   ]
  },
  {
   "cell_type": "code",
   "execution_count": null,
   "id": "2dd1f775",
   "metadata": {},
   "outputs": [],
   "source": [
    "# We take onlu the following columns\n",
    "features = [\n",
    "    \"duration\", \n",
    "    \"src_bytes\", \"dst_bytes\", \n",
    "    \"src_pkts\", \"dst_pkts\"\n",
    "]\n",
    "\n",
    "X = df[features]\n",
    "y = df[\"label\"].astype(\"Int64\")"
   ]
  },
  {
   "cell_type": "code",
   "execution_count": null,
   "id": "dd4ce016",
   "metadata": {},
   "outputs": [],
   "source": [
    "X.head()"
   ]
  },
  {
   "cell_type": "code",
   "execution_count": null,
   "id": "312a7c8c",
   "metadata": {},
   "outputs": [],
   "source": [
    "y.head()"
   ]
  },
  {
   "cell_type": "code",
   "execution_count": null,
   "id": "5c6d6956",
   "metadata": {},
   "outputs": [],
   "source": [
    "for col in [\"duration\", \"src_bytes\", \"dst_bytes\", \"src_pkts\", \"dst_pkts\",\n",
    "            \"src_ip_bytes\", \"dst_ip_bytes\"]:\n",
    "    X[col] = pd.to_numeric(X[col], errors=\"coerce\")\n",
    "\n",
    "# divide categorial and numerical columns\n",
    "num_cols = X.select_dtypes(include=['int64', 'float64']).columns.tolist()\n",
    "cat_cols = X.select_dtypes(include=['object']).columns.tolist()"
   ]
  },
  {
   "cell_type": "code",
   "execution_count": null,
   "id": "93e20fbd",
   "metadata": {},
   "outputs": [],
   "source": [
    "print(\"Numerical columns:\", num_cols)\n",
    "print(\"Categorical columns:\", cat_cols)"
   ]
  },
  {
   "cell_type": "code",
   "execution_count": null,
   "id": "367918ea",
   "metadata": {},
   "outputs": [],
   "source": [
    "# import data processor\n",
    "processor = DataProcessor(num_cols=num_cols, cat_cols=cat_cols)"
   ]
  },
  {
   "cell_type": "code",
   "execution_count": null,
   "id": "3225c44a",
   "metadata": {},
   "outputs": [],
   "source": [
    "from sklearn.model_selection import StratifiedKFold\n",
    "# Define the outer and inner cross-validation strategies\n",
    "outer_cv = StratifiedKFold(n_splits=5, shuffle=True, random_state=42)\n",
    "inner_cv = StratifiedKFold(n_splits=3, shuffle=True, random_state=42)"
   ]
  },
  {
   "cell_type": "code",
   "execution_count": null,
   "id": "2c0c5aad",
   "metadata": {},
   "outputs": [],
   "source": [
    "import warnings\n",
    "warnings.filterwarnings(\"ignore\", category=UserWarning)\n",
    "warnings.filterwarnings(\"ignore\", category=RuntimeWarning)\n",
    "\n",
    "from sklearn.pipeline import Pipeline\n",
    "from sklearn.feature_selection import SelectKBest, f_classif\n",
    "from xgboost import XGBClassifier\n",
    "from sklearn.ensemble import RandomForestClassifier\n",
    "from sklearn.neural_network import MLPClassifier\n",
    "from sklearn.metrics import (\n",
    "    f1_score, roc_auc_score, average_precision_score,\n",
    "    matthews_corrcoef, brier_score_loss, confusion_matrix,\n",
    "    classification_report\n",
    ")\n",
    "from sklearn.base import clone\n",
    "import numpy as np\n",
    "import pandas as pd\n",
    "\n",
    "best_models = {\n",
    "    \"XGBoost\": Pipeline([\n",
    "        (\"pre\", DataProcessor(num_cols, cat_cols)),\n",
    "        (\"select\", SelectKBest(score_func=f_classif, k=4)),\n",
    "        (\"clf\", XGBClassifier(eval_metric=\"logloss\", n_estimators=100, max_depth=5, learning_rate=0.1))\n",
    "    ]),\n",
    "    \"RandomForest\": Pipeline([\n",
    "        (\"pre\", DataProcessor(num_cols, cat_cols)),\n",
    "        (\"select\", SelectKBest(score_func=f_classif, k=4)),\n",
    "        (\"clf\", RandomForestClassifier(n_estimators=100, max_depth=None, min_samples_split=2))\n",
    "    ]),\n",
    "    \"MLPClassifier\": Pipeline([\n",
    "        (\"pre\", DataProcessor(num_cols, cat_cols)),\n",
    "        (\"select\", SelectKBest(score_func=f_classif, k=5)),\n",
    "        (\"clf\", MLPClassifier(hidden_layer_sizes=(50,), activation=\"relu\", alpha=0.0001, max_iter=500, random_state=42))\n",
    "    ])\n",
    "}\n",
    "\n",
    "results = []\n",
    "for model_name, pipeline in best_models.items():\n",
    "    print(f\"\\nEvaluando {model_name}...\")\n",
    "\n",
    "    outer_scores = {\"f1\": [], \"roc_auc\": [], \"auprc\": [], \"mcc\": [], \"brier\": [], \"fnr\": []}\n",
    "    confusion_matrixes, classification_reports = [], []\n",
    "    selected_features_folds = []\n",
    "\n",
    "    for fold, (train_idx, test_idx) in enumerate(outer_cv.split(X, y), 1):\n",
    "        X_train, X_test = X.iloc[train_idx], X.iloc[test_idx]\n",
    "        y_train, y_test = y.iloc[train_idx], y.iloc[test_idx]\n",
    "\n",
    "        model = clone(pipeline)\n",
    "        model.fit(X_train, y_train)\n",
    "\n",
    "        y_pred = model.predict(X_test)\n",
    "        y_proba = model.predict_proba(X_test)[:, 1]\n",
    "\n",
    "        outer_scores[\"f1\"].append(f1_score(y_test, y_pred))\n",
    "        outer_scores[\"roc_auc\"].append(roc_auc_score(y_test, y_proba))\n",
    "        outer_scores[\"auprc\"].append(average_precision_score(y_test, y_proba))\n",
    "        outer_scores[\"mcc\"].append(matthews_corrcoef(y_test, y_pred))\n",
    "        outer_scores[\"brier\"].append(brier_score_loss(y_test, y_proba))\n",
    "\n",
    "        cm = confusion_matrix(y_test, y_pred, labels=[0, 1])\n",
    "        tn, fp, fn, tp = cm.ravel()\n",
    "        fnr = fn / (fn + tp) if (fn + tp) > 0 else 0\n",
    "        outer_scores[\"fnr\"].append(fnr)\n",
    "        confusion_matrixes.append(cm)\n",
    "\n",
    "        report = classification_report(\n",
    "            y_test, y_pred,\n",
    "            target_names=[\"Benigno (0)\", \"Malicioso (1)\"],\n",
    "            output_dict=True\n",
    "        )\n",
    "        classification_reports.append(report)\n",
    "\n",
    "        # === Guardar features seleccionadas en este fold ===\n",
    "        select_step = model.named_steps[\"select\"]\n",
    "        feature_names = model.named_steps[\"pre\"].get_feature_names_out()\n",
    "        selected_mask = select_step.get_support()\n",
    "        selected_features = feature_names[selected_mask]\n",
    "        selected_features_folds.append(list(selected_features))\n",
    "\n",
    "    results.append({\n",
    "        \"Modelo\": model_name,\n",
    "        \"F1\": f\"{np.mean(outer_scores['f1']):.3f} ± {np.std(outer_scores['f1']):.3f}\",\n",
    "        \"ROC-AUC\": f\"{np.mean(outer_scores['roc_auc']):.3f} ± {np.std(outer_scores['roc_auc']):.3f}\",\n",
    "        \"AUPRC\": f\"{np.mean(outer_scores['auprc']):.3f} ± {np.std(outer_scores['auprc']):.3f}\",\n",
    "        \"MCC\": f\"{np.mean(outer_scores['mcc']):.3f} ± {np.std(outer_scores['mcc']):.3f}\",\n",
    "        \"Brier\": f\"{np.mean(outer_scores['brier']):.3f} ± {np.std(outer_scores['brier']):.3f}\",\n",
    "        \"FNR\": f\"{np.mean(outer_scores['fnr']):.3f} ± {np.std(outer_scores['fnr']):.3f}\",\n",
    "        \"ConfusionMatrix_por_fold\": confusion_matrixes,\n",
    "        \"ClassificationReport_por_fold\": classification_reports,\n",
    "        \"BestFeatures_por_fold\": selected_features_folds\n",
    "    })\n",
    "\n",
    "df_results = pd.DataFrame(results)\n",
    "print(\"\\nResultados finales:\")\n",
    "print(df_results[[\"Modelo\", \"F1\", \"ROC-AUC\", \"AUPRC\", \"MCC\", \"Brier\", \"FNR\"]])\n",
    "\n",
    "# === Contar qué features se repiten más por modelo ===\n",
    "for _, row in df_results.iterrows():\n",
    "    modelo = row[\"Modelo\"]\n",
    "    features_folds = row[\"BestFeatures_por_fold\"]\n",
    "    all_feats = [feat for fold_feats in features_folds for feat in fold_feats]\n",
    "    feat_counts = pd.Series(all_feats).value_counts()\n",
    "    print(f\"\\n{modelo} - Features más seleccionadas:\")\n",
    "    print(feat_counts)\n"
   ]
  },
  {
   "cell_type": "code",
   "execution_count": 7,
   "id": "3e5cff42",
   "metadata": {},
   "outputs": [],
   "source": [
    "df_prep = df.copy()"
   ]
  },
  {
   "cell_type": "code",
   "execution_count": 8,
   "id": "dcbbc181",
   "metadata": {},
   "outputs": [],
   "source": [
    "num_features = [\"duration\",\"src_bytes\",\"dst_bytes\",\n",
    "                \"src_pkts\",\"dst_pkts\",\"src_ip_bytes\",\"dst_ip_bytes\"]\n",
    "cat_features = [\"proto\",\"conn_state\",\"service\"]"
   ]
  },
  {
   "cell_type": "code",
   "execution_count": 9,
   "id": "ac68d57d",
   "metadata": {},
   "outputs": [],
   "source": [
    "for col in num_features:\n",
    "    df_prep[col] = pd.to_numeric(df_prep[col], errors=\"coerce\").fillna(0)"
   ]
  },
  {
   "cell_type": "code",
   "execution_count": 10,
   "id": "e611029f",
   "metadata": {},
   "outputs": [],
   "source": [
    "scaler = StandardScaler()\n",
    "X_num = scaler.fit_transform(df_prep[num_features])\n"
   ]
  },
  {
   "cell_type": "code",
   "execution_count": 15,
   "id": "6d401da1",
   "metadata": {},
   "outputs": [],
   "source": [
    "ohe = OneHotEncoder(handle_unknown=\"ignore\", sparse_output=False)\n",
    "X_cat = ohe.fit_transform(df_prep[cat_features].astype(str))\n",
    "\n"
   ]
  },
  {
   "cell_type": "code",
   "execution_count": 16,
   "id": "a32cf714",
   "metadata": {},
   "outputs": [
    {
     "name": "stdout",
     "output_type": "stream",
     "text": [
      "(875066, 7) (875066, 36)\n"
     ]
    }
   ],
   "source": [
    "print(X_num.shape, X_cat.shape)\n",
    "# Ej: (10000, 7) (10000, 25)\n"
   ]
  },
  {
   "cell_type": "code",
   "execution_count": 17,
   "id": "62b00f67",
   "metadata": {},
   "outputs": [
    {
     "name": "stdout",
     "output_type": "stream",
     "text": [
      "(875066, 7) (875066, 36) <class 'numpy.ndarray'> <class 'numpy.ndarray'>\n"
     ]
    }
   ],
   "source": [
    "X_num = np.array(X_num)\n",
    "X_cat = np.array(X_cat)\n",
    "\n",
    "print(X_num.shape, X_cat.shape, type(X_num), type(X_cat))\n",
    "\n",
    "X_all = np.hstack([X_num, X_cat])\n",
    "\n",
    "y_all = df_prep[\"label\"].values"
   ]
  },
  {
   "cell_type": "code",
   "execution_count": 18,
   "id": "7aef0ab7",
   "metadata": {},
   "outputs": [
    {
     "name": "stdout",
     "output_type": "stream",
     "text": [
      "Shape secuencias: (875056, 10, 43) (875056,)\n"
     ]
    }
   ],
   "source": [
    "def create_sequences(X, y, window_size=10):\n",
    "    Xs, ys = [], []\n",
    "    for i in range(len(X) - window_size):\n",
    "        Xs.append(X[i:(i + window_size)])\n",
    "        ys.append(y[i + window_size])  # etiqueta del último elemento\n",
    "    return np.array(Xs), np.array(ys)\n",
    "\n",
    "X_seq, y_seq = create_sequences(X_all, y_all, window_size=10)\n",
    "\n",
    "print(\"Shape secuencias:\", X_seq.shape, y_seq.shape)"
   ]
  },
  {
   "cell_type": "code",
   "execution_count": 19,
   "id": "9f5def0c",
   "metadata": {},
   "outputs": [
    {
     "name": "stdout",
     "output_type": "stream",
     "text": [
      "{np.int64(0): np.int64(83830), np.int64(1): np.int64(791226)}\n"
     ]
    }
   ],
   "source": [
    "import numpy as np\n",
    "unique, counts = np.unique(y_seq, return_counts=True)\n",
    "print(dict(zip(unique, counts)))\n"
   ]
  },
  {
   "cell_type": "code",
   "execution_count": 20,
   "id": "a1355342",
   "metadata": {},
   "outputs": [],
   "source": [
    "split = int(0.8 * len(X_seq))\n",
    "X_train, X_test = X_seq[:split], X_seq[split:]\n",
    "y_train, y_test = y_seq[:split], y_seq[split:]\n"
   ]
  },
  {
   "cell_type": "code",
   "execution_count": 25,
   "id": "ca82aa3c",
   "metadata": {},
   "outputs": [
    {
     "name": "stdout",
     "output_type": "stream",
     "text": [
      "Requirement already satisfied: tensorflow in c:\\users\\pcvip\\deteccion-botnets-tfm\\.venv\\lib\\site-packages (2.20.0)\n",
      "Requirement already satisfied: absl-py>=1.0.0 in c:\\users\\pcvip\\deteccion-botnets-tfm\\.venv\\lib\\site-packages (from tensorflow) (2.3.1)\n",
      "Requirement already satisfied: astunparse>=1.6.0 in c:\\users\\pcvip\\deteccion-botnets-tfm\\.venv\\lib\\site-packages (from tensorflow) (1.6.3)\n",
      "Requirement already satisfied: flatbuffers>=24.3.25 in c:\\users\\pcvip\\deteccion-botnets-tfm\\.venv\\lib\\site-packages (from tensorflow) (25.2.10)\n",
      "Requirement already satisfied: gast!=0.5.0,!=0.5.1,!=0.5.2,>=0.2.1 in c:\\users\\pcvip\\deteccion-botnets-tfm\\.venv\\lib\\site-packages (from tensorflow) (0.6.0)\n",
      "Requirement already satisfied: google_pasta>=0.1.1 in c:\\users\\pcvip\\deteccion-botnets-tfm\\.venv\\lib\\site-packages (from tensorflow) (0.2.0)\n",
      "Requirement already satisfied: libclang>=13.0.0 in c:\\users\\pcvip\\deteccion-botnets-tfm\\.venv\\lib\\site-packages (from tensorflow) (18.1.1)\n",
      "Requirement already satisfied: opt_einsum>=2.3.2 in c:\\users\\pcvip\\deteccion-botnets-tfm\\.venv\\lib\\site-packages (from tensorflow) (3.4.0)\n",
      "Requirement already satisfied: packaging in c:\\users\\pcvip\\deteccion-botnets-tfm\\.venv\\lib\\site-packages (from tensorflow) (25.0)\n",
      "Requirement already satisfied: protobuf>=5.28.0 in c:\\users\\pcvip\\deteccion-botnets-tfm\\.venv\\lib\\site-packages (from tensorflow) (6.32.0)\n",
      "Requirement already satisfied: requests<3,>=2.21.0 in c:\\users\\pcvip\\deteccion-botnets-tfm\\.venv\\lib\\site-packages (from tensorflow) (2.32.5)\n",
      "Requirement already satisfied: setuptools in c:\\users\\pcvip\\deteccion-botnets-tfm\\.venv\\lib\\site-packages (from tensorflow) (65.5.0)\n",
      "Requirement already satisfied: six>=1.12.0 in c:\\users\\pcvip\\deteccion-botnets-tfm\\.venv\\lib\\site-packages (from tensorflow) (1.17.0)\n",
      "Requirement already satisfied: termcolor>=1.1.0 in c:\\users\\pcvip\\deteccion-botnets-tfm\\.venv\\lib\\site-packages (from tensorflow) (3.1.0)\n",
      "Requirement already satisfied: typing_extensions>=3.6.6 in c:\\users\\pcvip\\deteccion-botnets-tfm\\.venv\\lib\\site-packages (from tensorflow) (4.14.1)\n",
      "Requirement already satisfied: wrapt>=1.11.0 in c:\\users\\pcvip\\deteccion-botnets-tfm\\.venv\\lib\\site-packages (from tensorflow) (1.17.3)\n",
      "Requirement already satisfied: grpcio<2.0,>=1.24.3 in c:\\users\\pcvip\\deteccion-botnets-tfm\\.venv\\lib\\site-packages (from tensorflow) (1.74.0)\n",
      "Requirement already satisfied: tensorboard~=2.20.0 in c:\\users\\pcvip\\deteccion-botnets-tfm\\.venv\\lib\\site-packages (from tensorflow) (2.20.0)\n",
      "Requirement already satisfied: keras>=3.10.0 in c:\\users\\pcvip\\deteccion-botnets-tfm\\.venv\\lib\\site-packages (from tensorflow) (3.11.3)\n",
      "Requirement already satisfied: numpy>=1.26.0 in c:\\users\\pcvip\\deteccion-botnets-tfm\\.venv\\lib\\site-packages (from tensorflow) (2.2.6)\n",
      "Requirement already satisfied: h5py>=3.11.0 in c:\\users\\pcvip\\deteccion-botnets-tfm\\.venv\\lib\\site-packages (from tensorflow) (3.14.0)\n",
      "Requirement already satisfied: ml_dtypes<1.0.0,>=0.5.1 in c:\\users\\pcvip\\deteccion-botnets-tfm\\.venv\\lib\\site-packages (from tensorflow) (0.5.3)\n",
      "Requirement already satisfied: charset_normalizer<4,>=2 in c:\\users\\pcvip\\deteccion-botnets-tfm\\.venv\\lib\\site-packages (from requests<3,>=2.21.0->tensorflow) (3.4.3)\n",
      "Requirement already satisfied: idna<4,>=2.5 in c:\\users\\pcvip\\deteccion-botnets-tfm\\.venv\\lib\\site-packages (from requests<3,>=2.21.0->tensorflow) (3.10)\n",
      "Requirement already satisfied: urllib3<3,>=1.21.1 in c:\\users\\pcvip\\deteccion-botnets-tfm\\.venv\\lib\\site-packages (from requests<3,>=2.21.0->tensorflow) (2.5.0)\n",
      "Requirement already satisfied: certifi>=2017.4.17 in c:\\users\\pcvip\\deteccion-botnets-tfm\\.venv\\lib\\site-packages (from requests<3,>=2.21.0->tensorflow) (2025.8.3)\n",
      "Requirement already satisfied: markdown>=2.6.8 in c:\\users\\pcvip\\deteccion-botnets-tfm\\.venv\\lib\\site-packages (from tensorboard~=2.20.0->tensorflow) (3.8.2)\n",
      "Requirement already satisfied: pillow in c:\\users\\pcvip\\deteccion-botnets-tfm\\.venv\\lib\\site-packages (from tensorboard~=2.20.0->tensorflow) (11.3.0)\n",
      "Requirement already satisfied: tensorboard-data-server<0.8.0,>=0.7.0 in c:\\users\\pcvip\\deteccion-botnets-tfm\\.venv\\lib\\site-packages (from tensorboard~=2.20.0->tensorflow) (0.7.2)\n",
      "Requirement already satisfied: werkzeug>=1.0.1 in c:\\users\\pcvip\\deteccion-botnets-tfm\\.venv\\lib\\site-packages (from tensorboard~=2.20.0->tensorflow) (3.1.3)\n",
      "Requirement already satisfied: wheel<1.0,>=0.23.0 in c:\\users\\pcvip\\deteccion-botnets-tfm\\.venv\\lib\\site-packages (from astunparse>=1.6.0->tensorflow) (0.45.1)\n",
      "Requirement already satisfied: rich in c:\\users\\pcvip\\deteccion-botnets-tfm\\.venv\\lib\\site-packages (from keras>=3.10.0->tensorflow) (14.1.0)\n",
      "Requirement already satisfied: namex in c:\\users\\pcvip\\deteccion-botnets-tfm\\.venv\\lib\\site-packages (from keras>=3.10.0->tensorflow) (0.1.0)\n",
      "Requirement already satisfied: optree in c:\\users\\pcvip\\deteccion-botnets-tfm\\.venv\\lib\\site-packages (from keras>=3.10.0->tensorflow) (0.17.0)\n",
      "Requirement already satisfied: MarkupSafe>=2.1.1 in c:\\users\\pcvip\\deteccion-botnets-tfm\\.venv\\lib\\site-packages (from werkzeug>=1.0.1->tensorboard~=2.20.0->tensorflow) (3.0.2)\n",
      "Requirement already satisfied: markdown-it-py>=2.2.0 in c:\\users\\pcvip\\deteccion-botnets-tfm\\.venv\\lib\\site-packages (from rich->keras>=3.10.0->tensorflow) (4.0.0)\n",
      "Requirement already satisfied: pygments<3.0.0,>=2.13.0 in c:\\users\\pcvip\\deteccion-botnets-tfm\\.venv\\lib\\site-packages (from rich->keras>=3.10.0->tensorflow) (2.19.2)\n",
      "Requirement already satisfied: mdurl~=0.1 in c:\\users\\pcvip\\deteccion-botnets-tfm\\.venv\\lib\\site-packages (from markdown-it-py>=2.2.0->rich->keras>=3.10.0->tensorflow) (0.1.2)\n",
      "{np.int64(0): np.float64(4.181514090816777), np.int64(1): np.float64(0.5679068431718362)}\n"
     ]
    },
    {
     "name": "stderr",
     "output_type": "stream",
     "text": [
      "c:\\Users\\PcVip\\deteccion-botnets-tfm\\.venv\\lib\\site-packages\\keras\\src\\layers\\rnn\\rnn.py:199: UserWarning: Do not pass an `input_shape`/`input_dim` argument to a layer. When using Sequential models, prefer using an `Input(shape)` object as the first layer in the model instead.\n",
      "  super().__init__(**kwargs)\n"
     ]
    },
    {
     "name": "stdout",
     "output_type": "stream",
     "text": [
      "Epoch 1/5\n",
      "\u001b[1m2735/2735\u001b[0m \u001b[32m━━━━━━━━━━━━━━━━━━━━\u001b[0m\u001b[37m\u001b[0m \u001b[1m13s\u001b[0m 4ms/step - accuracy: 0.9816 - loss: 0.0926 - val_accuracy: 0.9992 - val_loss: 0.0329\n",
      "Epoch 2/5\n",
      "\u001b[1m2735/2735\u001b[0m \u001b[32m━━━━━━━━━━━━━━━━━━━━\u001b[0m\u001b[37m\u001b[0m \u001b[1m12s\u001b[0m 4ms/step - accuracy: 0.9815 - loss: 0.0861 - val_accuracy: 0.9976 - val_loss: 0.0626\n",
      "Epoch 3/5\n",
      "\u001b[1m2735/2735\u001b[0m \u001b[32m━━━━━━━━━━━━━━━━━━━━\u001b[0m\u001b[37m\u001b[0m \u001b[1m12s\u001b[0m 4ms/step - accuracy: 0.9817 - loss: 0.0856 - val_accuracy: 0.9987 - val_loss: 0.0503\n",
      "Epoch 4/5\n",
      "\u001b[1m2735/2735\u001b[0m \u001b[32m━━━━━━━━━━━━━━━━━━━━\u001b[0m\u001b[37m\u001b[0m \u001b[1m12s\u001b[0m 4ms/step - accuracy: 0.9818 - loss: 0.0851 - val_accuracy: 0.9979 - val_loss: 0.0517\n",
      "Epoch 5/5\n",
      "\u001b[1m2735/2735\u001b[0m \u001b[32m━━━━━━━━━━━━━━━━━━━━\u001b[0m\u001b[37m\u001b[0m \u001b[1m12s\u001b[0m 5ms/step - accuracy: 0.9818 - loss: 0.0849 - val_accuracy: 0.9990 - val_loss: 0.0407\n"
     ]
    }
   ],
   "source": [
    "!pip install tensorflow\n",
    "from tensorflow.keras.models import Sequential\n",
    "from tensorflow.keras.layers import GRU, Dense\n",
    "from tensorflow.keras.optimizers import Adam\n",
    "\n",
    "from sklearn.utils.class_weight import compute_class_weight\n",
    "import numpy as np\n",
    "\n",
    "classes = np.unique(y_train)\n",
    "weights = compute_class_weight(class_weight=\"balanced\", classes=classes, y=y_train)\n",
    "class_weights = dict(zip(classes, weights))\n",
    "print(class_weights)\n",
    "\n",
    "\n",
    "\n",
    "\n",
    "model = Sequential([\n",
    "    GRU(64, input_shape=(X_seq.shape[1], X_seq.shape[2])),\n",
    "    Dense(1, activation=\"sigmoid\")\n",
    "])\n",
    "\n",
    "model.compile(\n",
    "    optimizer=Adam(learning_rate=1e-3),\n",
    "    loss=\"binary_crossentropy\",\n",
    "    metrics=[\"accuracy\"]\n",
    ")\n",
    "\n",
    "history = model.fit(\n",
    "    X_train, y_train,\n",
    "    validation_data=(X_test, y_test),\n",
    "    epochs=5,\n",
    "    batch_size=256,\n",
    "    class_weight=class_weights\n",
    ")\n"
   ]
  },
  {
   "cell_type": "code",
   "execution_count": 28,
   "id": "5dcddf9f",
   "metadata": {},
   "outputs": [
    {
     "name": "stdout",
     "output_type": "stream",
     "text": [
      "\u001b[1m684/684\u001b[0m \u001b[32m━━━━━━━━━━━━━━━━━━━━\u001b[0m\u001b[37m\u001b[0m \u001b[1m1s\u001b[0m 2ms/step\n"
     ]
    }
   ],
   "source": [
    "# Probabilidades\n",
    "y_proba = model.predict(X_test, batch_size=256)\n",
    "\n",
    "# Convertir a 0/1 con umbral 0.5\n",
    "y_pred = (y_proba > 0.75).astype(\"int32\").flatten()\n"
   ]
  },
  {
   "cell_type": "code",
   "execution_count": 31,
   "id": "11e992ab",
   "metadata": {},
   "outputs": [
    {
     "name": "stdout",
     "output_type": "stream",
     "text": [
      "[[     0    123]\n",
      " [   511 174378]]\n",
      "              precision    recall  f1-score   support\n",
      "\n",
      "           0     0.0000    0.0000    0.0000       123\n",
      "           1     0.9993    0.9971    0.9982    174889\n",
      "\n",
      "    accuracy                         0.9964    175012\n",
      "   macro avg     0.4996    0.4985    0.4991    175012\n",
      "weighted avg     0.9986    0.9964    0.9975    175012\n",
      "\n",
      "ROC-AUC: 0.5461890182888129\n"
     ]
    },
    {
     "data": {
      "text/plain": [
       "<sklearn.metrics._plot.confusion_matrix.ConfusionMatrixDisplay at 0x1f5ca8a4220>"
      ]
     },
     "execution_count": 31,
     "metadata": {},
     "output_type": "execute_result"
    },
    {
     "data": {
      "image/png": "[encoded data removed]",
      "text/plain": [
       "<Figure size 640x480 with 2 Axes>"
      ]
     },
     "metadata": {},
     "output_type": "display_data"
    }
   ],
   "source": [
    "from sklearn.metrics import classification_report, confusion_matrix, roc_auc_score\n",
    "\n",
    "print(confusion_matrix(y_test, y_pred))\n",
    "print(classification_report(y_test, y_pred, digits=4))\n",
    "print(\"ROC-AUC:\", roc_auc_score(y_test, y_proba))\n",
    "# display the confusion matrix with ConfussionMatrxixDisplay\n",
    "cm = confusion_matrix(y_test, y_pred)\n",
    "from sklearn.metrics import ConfusionMatrixDisplay\n",
    "disp = ConfusionMatrixDisplay(confusion_matrix=cm, display_labels=[\"Benigno (0)\", \"Malicioso (1)\"])\n",
    "disp.plot(cmap=plt.cm.Blues)"
   ]
  },
  {
   "cell_type": "code",
   "execution_count": null,
   "id": "2ef585d1",
   "metadata": {},
   "outputs": [
    {
     "name": "stdout",
     "output_type": "stream",
     "text": [
      "Antes del balanceo: 616337 ataques, 83707 normales\n",
      "Después del balanceo: [616337 616337]\n",
      "Class weights: {np.int64(0): np.float64(1.0), np.int64(1): np.float64(1.0)}\n"
     ]
    },
    {
     "name": "stderr",
     "output_type": "stream",
     "text": [
      "c:\\Users\\PcVip\\deteccion-botnets-tfm\\.venv\\lib\\site-packages\\keras\\src\\layers\\rnn\\rnn.py:199: UserWarning: Do not pass an `input_shape`/`input_dim` argument to a layer. When using Sequential models, prefer using an `Input(shape)` object as the first layer in the model instead.\n",
      "  super().__init__(**kwargs)\n"
     ]
    },
    {
     "name": "stdout",
     "output_type": "stream",
     "text": [
      "Epoch 1/5\n",
      "\u001b[1m4816/4816\u001b[0m \u001b[32m━━━━━━━━━━━━━━━━━━━━\u001b[0m\u001b[37m\u001b[0m \u001b[1m21s\u001b[0m 4ms/step - accuracy: 0.9727 - loss: 0.0889 - val_accuracy: 0.9992 - val_loss: 0.0274\n",
      "Epoch 2/5\n",
      "\u001b[1m4816/4816\u001b[0m \u001b[32m━━━━━━━━━━━━━━━━━━━━\u001b[0m\u001b[37m\u001b[0m \u001b[1m20s\u001b[0m 4ms/step - accuracy: 0.9735 - loss: 0.0843 - val_accuracy: 0.9981 - val_loss: 0.0489\n",
      "Epoch 3/5\n",
      "\u001b[1m4816/4816\u001b[0m \u001b[32m━━━━━━━━━━━━━━━━━━━━\u001b[0m\u001b[37m\u001b[0m \u001b[1m21s\u001b[0m 4ms/step - accuracy: 0.9737 - loss: 0.0836 - val_accuracy: 0.9988 - val_loss: 0.0391\n",
      "Epoch 4/5\n",
      "\u001b[1m4816/4816\u001b[0m \u001b[32m━━━━━━━━━━━━━━━━━━━━\u001b[0m\u001b[37m\u001b[0m \u001b[1m21s\u001b[0m 4ms/step - accuracy: 0.9740 - loss: 0.0829 - val_accuracy: 0.9986 - val_loss: 0.0409\n",
      "Epoch 5/5\n",
      "\u001b[1m4816/4816\u001b[0m \u001b[32m━━━━━━━━━━━━━━━━━━━━\u001b[0m\u001b[37m\u001b[0m \u001b[1m21s\u001b[0m 4ms/step - accuracy: 0.9743 - loss: 0.0823 - val_accuracy: 0.9986 - val_loss: 0.0446\n",
      "\u001b[1m684/684\u001b[0m \u001b[32m━━━━━━━━━━━━━━━━━━━━\u001b[0m\u001b[37m\u001b[0m \u001b[1m1s\u001b[0m 2ms/step\n",
      "\n",
      "Confusion matrix:\n",
      " [[     0    123]\n",
      " [   121 174768]]\n",
      "\n",
      "Classification report:\n",
      "               precision    recall  f1-score   support\n",
      "\n",
      "           0     0.0000    0.0000    0.0000       123\n",
      "           1     0.9993    0.9993    0.9993    174889\n",
      "\n",
      "    accuracy                         0.9986    175012\n",
      "   macro avg     0.4996    0.4997    0.4997    175012\n",
      "weighted avg     0.9986    0.9986    0.9986    175012\n",
      "\n",
      "ROC-AUC: 0.4906769204178614\n",
      "F1: 0.9993024186631597\n",
      "MCC: -0.0006975579025244317\n"
     ]
    }
   ],
   "source": [
    "import numpy as np\n",
    "import pandas as pd\n",
    "from sklearn.utils import resample, class_weight\n",
    "from sklearn.metrics import confusion_matrix, classification_report, roc_auc_score, f1_score, matthews_corrcoef\n",
    "from tensorflow.keras.models import Sequential\n",
    "from tensorflow.keras.layers import GRU, Dense\n",
    "from tensorflow.keras.optimizers import Adam\n",
    "import tensorflow as tf\n",
    "\n",
    "# ============================\n",
    "# Balanceo del dataset\n",
    "# ============================\n",
    "# Aplano para poder hacer oversampling\n",
    "X_train_flat = X_train.reshape(X_train.shape[0], -1)\n",
    "df_train = pd.DataFrame(X_train_flat)\n",
    "df_train[\"label\"] = y_train\n",
    "\n",
    "# Separar clases\n",
    "df_majority = df_train[df_train.label == 1]\n",
    "df_minority = df_train[df_train.label == 0]\n",
    "\n",
    "print(\"Antes del balanceo:\", len(df_majority), \"ataques,\", len(df_minority), \"normales\")\n",
    "\n",
    "# Oversample clase 0\n",
    "df_minority_upsampled = resample(\n",
    "    df_minority,\n",
    "    replace=True,\n",
    "    n_samples=len(df_majority),\n",
    "    random_state=42\n",
    ")\n",
    "\n",
    "# Dataset balanceado\n",
    "df_balanced = pd.concat([df_majority, df_minority_upsampled])\n",
    "\n",
    "# Reconstruir arrays\n",
    "y_train_bal = df_balanced[\"label\"].values\n",
    "X_train_bal = df_balanced.drop(columns=[\"label\"]).values.reshape(-1, X_train.shape[1], X_train.shape[2])\n",
    "\n",
    "print(\"Después del balanceo:\", np.bincount(y_train_bal))\n",
    "\n",
    "# ============================\n",
    "# Pesos de clase (por si queda algo de desbalanceo)\n",
    "# ============================\n",
    "classes = np.unique(y_train_bal)\n",
    "weights = class_weight.compute_class_weight(class_weight=\"balanced\", classes=classes, y=y_train_bal)\n",
    "class_weights = dict(zip(classes, weights))\n",
    "print(\"Class weights:\", class_weights)\n",
    "\n",
    "# ============================\n",
    "# Modelo GRU\n",
    "# ============================\n",
    "model = Sequential([\n",
    "    GRU(64, input_shape=(X_train.shape[1], X_train.shape[2])),\n",
    "    Dense(1, activation=\"sigmoid\")\n",
    "])\n",
    "\n",
    "model.compile(\n",
    "    optimizer=Adam(1e-3),\n",
    "    loss=\"binary_crossentropy\",\n",
    "    metrics=[\"accuracy\"]\n",
    ")\n",
    "\n",
    "history = model.fit(\n",
    "    X_train_bal, y_train_bal,\n",
    "    validation_data=(X_test, y_test),\n",
    "    epochs=5,\n",
    "    batch_size=256,\n",
    "    class_weight=class_weights,\n",
    "    verbose=1\n",
    ")\n",
    "\n",
    "# ============================\n",
    "# Evaluación\n",
    "# ============================\n",
    "y_proba = model.predict(X_test, batch_size=256)\n",
    "y_pred = (y_proba > 0.5).astype(\"int32\").flatten()\n",
    "\n",
    "print(\"\\nConfusion matrix:\\n\", confusion_matrix(y_test, y_pred))\n",
    "print(\"\\nClassification report:\\n\", classification_report(y_test, y_pred, digits=4))\n",
    "print(\"ROC-AUC:\", roc_auc_score(y_test, y_proba))\n",
    "print(\"F1:\", f1_score(y_test, y_pred))\n",
    "print(\"MCC:\", matthews_corrcoef(y_test, y_pred))\n",
    "\n"
   ]
  },
  {
   "cell_type": "code",
   "execution_count": null,
   "id": "6e685f25",
   "metadata": {},
   "outputs": [
    {
     "data": {
      "text/plain": [
       "<sklearn.metrics._plot.confusion_matrix.ConfusionMatrixDisplay at 0x1f5ca887880>"
      ]
     },
     "execution_count": 33,
     "metadata": {},
     "output_type": "execute_result"
    },
    {
     "data": {
      "image/png": "[encoded data removed]",
      "text/plain": [
       "<Figure size 640x480 with 2 Axes>"
      ]
     },
     "metadata": {},
     "output_type": "display_data"
    }
   ],
   "source": [
    "# Confussion matrix display of y_pred and y_test\n",
    "import matplotlib.pyplot as plt\n",
    "from sklearn.metrics import ConfusionMatrixDisplay\n",
    "\n",
    "# Display the confusion matrix with ConfussionMatrxixDisplay\n",
    "cm = confusion_matrix(y_test, y_pred)\n",
    "disp = ConfusionMatrixDisplay(confusion_matrix=cm, display_labels=[\"Benigno (0)\", \"Malicioso (1)\"])\n",
    "disp.plot(cmap=plt.cm.Blues)"
   ]
  },
  {
   "cell_type": "code",
   "execution_count": 35,
   "id": "54b0a02b",
   "metadata": {},
   "outputs": [
    {
     "name": "stdout",
     "output_type": "stream",
     "text": [
      "Collecting imbalanced-learn\n",
      "  Downloading imbalanced_learn-0.14.0-py3-none-any.whl.metadata (8.8 kB)\n",
      "Requirement already satisfied: numpy<3,>=1.25.2 in c:\\users\\pcvip\\deteccion-botnets-tfm\\.venv\\lib\\site-packages (from imbalanced-learn) (2.2.6)\n",
      "Requirement already satisfied: scipy<2,>=1.11.4 in c:\\users\\pcvip\\deteccion-botnets-tfm\\.venv\\lib\\site-packages (from imbalanced-learn) (1.15.3)\n",
      "Requirement already satisfied: scikit-learn<2,>=1.4.2 in c:\\users\\pcvip\\deteccion-botnets-tfm\\.venv\\lib\\site-packages (from imbalanced-learn) (1.7.1)\n",
      "Requirement already satisfied: joblib<2,>=1.2.0 in c:\\users\\pcvip\\deteccion-botnets-tfm\\.venv\\lib\\site-packages (from imbalanced-learn) (1.5.1)\n",
      "Requirement already satisfied: threadpoolctl<4,>=2.0.0 in c:\\users\\pcvip\\deteccion-botnets-tfm\\.venv\\lib\\site-packages (from imbalanced-learn) (3.6.0)\n",
      "Downloading imbalanced_learn-0.14.0-py3-none-any.whl (239 kB)\n",
      "Installing collected packages: imbalanced-learn\n",
      "Successfully installed imbalanced-learn-0.14.0\n",
      "Original balance: [ 83707 616337]\n",
      "Balance después de SMOTE: [616337 616337]\n"
     ]
    },
    {
     "name": "stderr",
     "output_type": "stream",
     "text": [
      "c:\\Users\\PcVip\\deteccion-botnets-tfm\\.venv\\lib\\site-packages\\keras\\src\\layers\\rnn\\rnn.py:199: UserWarning: Do not pass an `input_shape`/`input_dim` argument to a layer. When using Sequential models, prefer using an `Input(shape)` object as the first layer in the model instead.\n",
      "  super().__init__(**kwargs)\n"
     ]
    },
    {
     "name": "stdout",
     "output_type": "stream",
     "text": [
      "Epoch 1/5\n",
      "\u001b[1m4816/4816\u001b[0m \u001b[32m━━━━━━━━━━━━━━━━━━━━\u001b[0m\u001b[37m\u001b[0m \u001b[1m21s\u001b[0m 4ms/step - accuracy: 0.9724 - loss: 0.0185 - val_accuracy: 0.9993 - val_loss: 0.0082\n",
      "Epoch 2/5\n",
      "\u001b[1m4816/4816\u001b[0m \u001b[32m━━━━━━━━━━━━━━━━━━━━\u001b[0m\u001b[37m\u001b[0m \u001b[1m36s\u001b[0m 7ms/step - accuracy: 0.9777 - loss: 0.0153 - val_accuracy: 0.9965 - val_loss: 0.0101\n",
      "Epoch 3/5\n",
      "\u001b[1m4816/4816\u001b[0m \u001b[32m━━━━━━━━━━━━━━━━━━━━\u001b[0m\u001b[37m\u001b[0m \u001b[1m47s\u001b[0m 9ms/step - accuracy: 0.9826 - loss: 0.0128 - val_accuracy: 0.9903 - val_loss: 0.0148\n",
      "Epoch 4/5\n",
      "\u001b[1m4816/4816\u001b[0m \u001b[32m━━━━━━━━━━━━━━━━━━━━\u001b[0m\u001b[37m\u001b[0m \u001b[1m82s\u001b[0m 9ms/step - accuracy: 0.9836 - loss: 0.0123 - val_accuracy: 0.9991 - val_loss: 0.0076\n",
      "Epoch 5/5\n",
      "\u001b[1m4816/4816\u001b[0m \u001b[32m━━━━━━━━━━━━━━━━━━━━\u001b[0m\u001b[37m\u001b[0m \u001b[1m85s\u001b[0m 9ms/step - accuracy: 0.9849 - loss: 0.0116 - val_accuracy: 0.9988 - val_loss: 0.0084\n",
      "\u001b[1m684/684\u001b[0m \u001b[32m━━━━━━━━━━━━━━━━━━━━\u001b[0m\u001b[37m\u001b[0m \u001b[1m3s\u001b[0m 4ms/step\n",
      "\n",
      "Confusion matrix:\n",
      " [[     0    123]\n",
      " [    91 174798]]\n",
      "\n",
      "Classification report:\n",
      "               precision    recall  f1-score   support\n",
      "\n",
      "           0     0.0000    0.0000    0.0000       123\n",
      "           1     0.9993    0.9995    0.9994    174889\n",
      "\n",
      "    accuracy                         0.9988    175012\n",
      "   macro avg     0.4996    0.4997    0.4997    175012\n",
      "weighted avg     0.9986    0.9988    0.9987    175012\n",
      "\n",
      "ROC-AUC: 0.47269204015908445\n",
      "F1: 0.9993882393299219\n",
      "MCC: -0.0006048825123625138\n"
     ]
    },
    {
     "data": {
      "image/png": "[encoded data removed]",
      "text/plain": [
       "<Figure size 600x400 with 2 Axes>"
      ]
     },
     "metadata": {},
     "output_type": "display_data"
    }
   ],
   "source": [
    "! pip install imbalanced-learn\n",
    "import numpy as np\n",
    "import pandas as pd\n",
    "from imblearn.over_sampling import SMOTE\n",
    "from sklearn.metrics import confusion_matrix, classification_report, roc_auc_score, f1_score, matthews_corrcoef\n",
    "import seaborn as sns\n",
    "import matplotlib.pyplot as plt\n",
    "\n",
    "from tensorflow.keras.models import Sequential\n",
    "from tensorflow.keras.layers import GRU, Dense\n",
    "from tensorflow.keras.optimizers import Adam\n",
    "import tensorflow as tf\n",
    "\n",
    "# ============================\n",
    "# SMOTE para balancear dataset\n",
    "# ============================\n",
    "print(\"Original balance:\", np.bincount(y_train))\n",
    "\n",
    "# Flatten para SMOTE\n",
    "n_samples, timesteps, n_features = X_train.shape\n",
    "X_train_flat = X_train.reshape((n_samples, timesteps * n_features))\n",
    "\n",
    "smote = SMOTE(random_state=42)\n",
    "X_train_bal, y_train_bal = smote.fit_resample(X_train_flat, y_train)\n",
    "\n",
    "# Reconstruir 3D para GRU\n",
    "X_train_bal = X_train_bal.reshape((-1, timesteps, n_features))\n",
    "print(\"Balance después de SMOTE:\", np.bincount(y_train_bal))\n",
    "\n",
    "# ============================\n",
    "# Focal Loss\n",
    "# ============================\n",
    "def focal_loss(gamma=2., alpha=0.25):\n",
    "    def loss(y_true, y_pred):\n",
    "        y_true = tf.cast(y_true, tf.float32)\n",
    "        bce = tf.keras.losses.binary_crossentropy(y_true, y_pred)\n",
    "        pt = tf.exp(-bce)\n",
    "        return alpha * (1 - pt) ** gamma * bce\n",
    "    return loss\n",
    "\n",
    "# ============================\n",
    "# Modelo GRU\n",
    "# ============================\n",
    "model = Sequential([\n",
    "    GRU(64, input_shape=(timesteps, n_features)),\n",
    "    Dense(1, activation=\"sigmoid\")\n",
    "])\n",
    "\n",
    "model.compile(\n",
    "    optimizer=Adam(1e-3),\n",
    "    loss=focal_loss(gamma=2., alpha=0.75),\n",
    "    metrics=[\"accuracy\"]\n",
    ")\n",
    "\n",
    "history = model.fit(\n",
    "    X_train_bal, y_train_bal,\n",
    "    validation_data=(X_test, y_test),\n",
    "    epochs=5,\n",
    "    batch_size=256,\n",
    "    verbose=1\n",
    ")\n",
    "\n",
    "# ============================\n",
    "# Evaluación\n",
    "# ============================\n",
    "y_proba = model.predict(X_test, batch_size=256)\n",
    "y_pred = (y_proba > 0.5).astype(\"int32\").flatten()\n",
    "\n",
    "cm = confusion_matrix(y_test, y_pred)\n",
    "print(\"\\nConfusion matrix:\\n\", cm)\n",
    "print(\"\\nClassification report:\\n\", classification_report(y_test, y_pred, digits=4))\n",
    "print(\"ROC-AUC:\", roc_auc_score(y_test, y_proba))\n",
    "print(\"F1:\", f1_score(y_test, y_pred))\n",
    "print(\"MCC:\", matthews_corrcoef(y_test, y_pred))\n",
    "\n",
    "# ============================\n",
    "# Visualizar matriz de confusión\n",
    "# ============================\n",
    "plt.figure(figsize=(6,4))\n",
    "sns.heatmap(cm, annot=True, fmt=\"d\", cmap=\"Blues\", xticklabels=[\"Normal (0)\",\"Ataque (1)\"], yticklabels=[\"Normal (0)\",\"Ataque (1)\"])\n",
    "plt.xlabel(\"Predicted\")\n",
    "plt.ylabel(\"True\")\n",
    "plt.title(\"Confusion Matrix - GRU + SMOTE + Focal Loss\")\n",
    "plt.show()\n"
   ]
  },
  {
   "cell_type": "code",
   "execution_count": 36,
   "id": "f6f64281",
   "metadata": {},
   "outputs": [
    {
     "name": "stderr",
     "output_type": "stream",
     "text": [
      "c:\\Users\\PcVip\\deteccion-botnets-tfm\\.venv\\lib\\site-packages\\keras\\src\\layers\\rnn\\rnn.py:199: UserWarning: Do not pass an `input_shape`/`input_dim` argument to a layer. When using Sequential models, prefer using an `Input(shape)` object as the first layer in the model instead.\n",
      "  super().__init__(**kwargs)\n"
     ]
    },
    {
     "name": "stdout",
     "output_type": "stream",
     "text": [
      "Epoch 1/20\n",
      "\u001b[1m4816/4816\u001b[0m \u001b[32m━━━━━━━━━━━━━━━━━━━━\u001b[0m\u001b[37m\u001b[0m \u001b[1m48s\u001b[0m 9ms/step - accuracy: 0.9701 - auc: 0.9871 - loss: 0.0988 - val_accuracy: 0.9989 - val_auc: 0.5048 - val_loss: 0.0378\n",
      "Epoch 2/20\n",
      "\u001b[1m4816/4816\u001b[0m \u001b[32m━━━━━━━━━━━━━━━━━━━━\u001b[0m\u001b[37m\u001b[0m \u001b[1m41s\u001b[0m 8ms/step - accuracy: 0.9726 - auc: 0.9884 - loss: 0.0891 - val_accuracy: 0.9992 - val_auc: 0.5075 - val_loss: 0.0430\n",
      "Epoch 3/20\n",
      "\u001b[1m4816/4816\u001b[0m \u001b[32m━━━━━━━━━━━━━━━━━━━━\u001b[0m\u001b[37m\u001b[0m \u001b[1m36s\u001b[0m 7ms/step - accuracy: 0.9737 - auc: 0.9889 - loss: 0.0865 - val_accuracy: 0.9991 - val_auc: 0.4618 - val_loss: 0.0418\n",
      "Epoch 4/20\n",
      "\u001b[1m4816/4816\u001b[0m \u001b[32m━━━━━━━━━━━━━━━━━━━━\u001b[0m\u001b[37m\u001b[0m \u001b[1m43s\u001b[0m 9ms/step - accuracy: 0.9749 - auc: 0.9894 - loss: 0.0834 - val_accuracy: 0.9981 - val_auc: 0.4741 - val_loss: 0.0451\n",
      "Epoch 5/20\n",
      "\u001b[1m4816/4816\u001b[0m \u001b[32m━━━━━━━━━━━━━━━━━━━━\u001b[0m\u001b[37m\u001b[0m \u001b[1m42s\u001b[0m 9ms/step - accuracy: 0.9759 - auc: 0.9899 - loss: 0.0807 - val_accuracy: 0.9988 - val_auc: 0.4747 - val_loss: 0.0414\n"
     ]
    }
   ],
   "source": [
    "from tensorflow.keras.models import Sequential\n",
    "from tensorflow.keras.layers import GRU, Dense, Dropout\n",
    "from tensorflow.keras.optimizers import Adam\n",
    "from tensorflow.keras.callbacks import EarlyStopping\n",
    "import tensorflow as tf\n",
    "\n",
    "model = Sequential([\n",
    "    GRU(64, return_sequences=True, dropout=0.3, recurrent_dropout=0.3,\n",
    "        input_shape=(X_train.shape[1], X_train.shape[2])),\n",
    "    GRU(32, dropout=0.3, recurrent_dropout=0.3),\n",
    "    Dense(32, activation=\"relu\"),\n",
    "    Dropout(0.3),\n",
    "    Dense(1, activation=\"sigmoid\")\n",
    "])\n",
    "\n",
    "model.compile(\n",
    "    optimizer=Adam(1e-3),\n",
    "    loss=\"binary_crossentropy\",  # puedes probar focal loss aquí\n",
    "    metrics=[\"accuracy\", tf.keras.metrics.AUC(name=\"auc\")]\n",
    ")\n",
    "\n",
    "early_stop = EarlyStopping(monitor=\"val_auc\", patience=3, restore_best_weights=True)\n",
    "\n",
    "history = model.fit(\n",
    "    X_train_bal, y_train_bal,\n",
    "    validation_data=(X_test, y_test),\n",
    "    epochs=20,\n",
    "    batch_size=256,\n",
    "    class_weight=class_weights,\n",
    "    callbacks=[early_stop],\n",
    "    verbose=1\n",
    ")"
   ]
  },
  {
   "cell_type": "code",
   "execution_count": 37,
   "id": "c4654b12",
   "metadata": {},
   "outputs": [
    {
     "name": "stdout",
     "output_type": "stream",
     "text": [
      "\u001b[1m684/684\u001b[0m \u001b[32m━━━━━━━━━━━━━━━━━━━━\u001b[0m\u001b[37m\u001b[0m \u001b[1m2s\u001b[0m 3ms/step\n",
      "\n",
      "Confusion matrix:\n",
      " [[     0    123]\n",
      " [    18 174871]]\n",
      "\n",
      "Classification report:\n",
      "               precision    recall  f1-score   support\n",
      "\n",
      "           0     0.0000    0.0000    0.0000       123\n",
      "           1     0.9993    0.9999    0.9996    174889\n",
      "\n",
      "    accuracy                         0.9992    175012\n",
      "   macro avg     0.4996    0.4999    0.4998    175012\n",
      "weighted avg     0.9986    0.9992    0.9989    175012\n",
      "\n",
      "ROC-AUC: 0.4731677890742964\n",
      "F1: 0.999597008142722\n",
      "MCC: -0.0002689651314461298\n"
     ]
    },
    {
     "data": {
      "image/png": "[encoded data removed]",
      "text/plain": [
       "<Figure size 600x400 with 2 Axes>"
      ]
     },
     "metadata": {},
     "output_type": "display_data"
    }
   ],
   "source": [
    "y_proba = model.predict(X_test, batch_size=256)\n",
    "y_pred = (y_proba > 0.5).astype(\"int32\").flatten()\n",
    "\n",
    "cm = confusion_matrix(y_test, y_pred)\n",
    "print(\"\\nConfusion matrix:\\n\", cm)\n",
    "print(\"\\nClassification report:\\n\", classification_report(y_test, y_pred, digits=4))\n",
    "print(\"ROC-AUC:\", roc_auc_score(y_test, y_proba))\n",
    "print(\"F1:\", f1_score(y_test, y_pred))\n",
    "print(\"MCC:\", matthews_corrcoef(y_test, y_pred))\n",
    "\n",
    "# ============================\n",
    "# Visualizar matriz de confusión\n",
    "# ============================\n",
    "plt.figure(figsize=(6,4))\n",
    "sns.heatmap(cm, annot=True, fmt=\"d\", cmap=\"Blues\", xticklabels=[\"Normal (0)\",\"Ataque (1)\"], yticklabels=[\"Normal (0)\",\"Ataque (1)\"])\n",
    "plt.xlabel(\"Predicted\")\n",
    "plt.ylabel(\"True\")\n",
    "plt.title(\"Confusion Matrix - GRU + SMOTE + Focal Loss\")\n",
    "plt.show()"
   ]
  }
 ],
 "metadata": {
  "kernelspec": {
   "display_name": ".venv",
   "language": "python",
   "name": "python3"
  },
  "language_info": {
   "codemirror_mode": {
    "name": "ipython",
    "version": 3
   },
   "file_extension": ".py",
   "mimetype": "text/x-python",
   "name": "python",
   "nbconvert_exporter": "python",
   "pygments_lexer": "ipython3",
   "version": "3.10.11"
  }
 },
 "nbformat": 4,
 "nbformat_minor": 5
}
