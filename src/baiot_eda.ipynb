{
 "cells": [
  {
   "cell_type": "code",
   "execution_count": 2,
   "id": "dd45c574",
   "metadata": {},
   "outputs": [
    {
     "name": "stdout",
     "output_type": "stream",
     "text": [
      "Requirement already satisfied: kagglehub in c:\\users\\pcvip\\deteccion-botnets-tfm\\.venv\\lib\\site-packages (0.3.12)\n",
      "Requirement already satisfied: packaging in c:\\users\\pcvip\\deteccion-botnets-tfm\\.venv\\lib\\site-packages (from kagglehub) (25.0)\n",
      "Requirement already satisfied: pyyaml in c:\\users\\pcvip\\deteccion-botnets-tfm\\.venv\\lib\\site-packages (from kagglehub) (6.0.2)\n",
      "Requirement already satisfied: requests in c:\\users\\pcvip\\deteccion-botnets-tfm\\.venv\\lib\\site-packages (from kagglehub) (2.32.5)\n",
      "Requirement already satisfied: tqdm in c:\\users\\pcvip\\deteccion-botnets-tfm\\.venv\\lib\\site-packages (from kagglehub) (4.67.1)\n",
      "Requirement already satisfied: charset_normalizer<4,>=2 in c:\\users\\pcvip\\deteccion-botnets-tfm\\.venv\\lib\\site-packages (from requests->kagglehub) (3.4.3)\n",
      "Requirement already satisfied: idna<4,>=2.5 in c:\\users\\pcvip\\deteccion-botnets-tfm\\.venv\\lib\\site-packages (from requests->kagglehub) (3.10)\n",
      "Requirement already satisfied: urllib3<3,>=1.21.1 in c:\\users\\pcvip\\deteccion-botnets-tfm\\.venv\\lib\\site-packages (from requests->kagglehub) (2.5.0)\n",
      "Requirement already satisfied: certifi>=2017.4.17 in c:\\users\\pcvip\\deteccion-botnets-tfm\\.venv\\lib\\site-packages (from requests->kagglehub) (2025.8.3)\n",
      "Requirement already satisfied: colorama in c:\\users\\pcvip\\deteccion-botnets-tfm\\.venv\\lib\\site-packages (from tqdm->kagglehub) (0.4.6)\n",
      "Downloading from https://www.kaggle.com/api/v1/datasets/download/mkashifn/nbaiot-dataset?dataset_version_number=1...\n"
     ]
    },
    {
     "name": "stderr",
     "output_type": "stream",
     "text": [
      "100%|██████████| 1.75G/1.75G [01:13<00:00, 25.5MB/s]"
     ]
    },
    {
     "name": "stdout",
     "output_type": "stream",
     "text": [
      "Extracting files...\n"
     ]
    },
    {
     "name": "stderr",
     "output_type": "stream",
     "text": [
      "\n"
     ]
    },
    {
     "name": "stdout",
     "output_type": "stream",
     "text": [
      "Path to dataset files: C:\\Users\\PcVip\\.cache\\kagglehub\\datasets\\mkashifn\\nbaiot-dataset\\versions\\1\n"
     ]
    }
   ],
   "source": [
    "! pip install kagglehub\n",
    "import kagglehub\n",
    "\n",
    "# Download latest version\n",
    "path = kagglehub.dataset_download(\"mkashifn/nbaiot-dataset\")\n",
    "\n",
    "print(\"Path to dataset files:\", path)"
   ]
  },
  {
   "cell_type": "code",
   "execution_count": 3,
   "id": "770ab551",
   "metadata": {},
   "outputs": [],
   "source": [
    "# import reuiqred libraries and data loader\n",
    "import pandas as pd\n",
    "import numpy as np\n",
    "import matplotlib.pyplot as plt\n",
    "import seaborn as sns\n",
    "import os\n",
    "from sklearn.model_selection import train_test_split\n",
    "from sklearn.preprocessing import StandardScaler, OneHotEncoder\n",
    "from sklearn.compose import ColumnTransformer\n",
    "from sklearn.pipeline import Pipeline\n",
    "from sklearn.impute import SimpleImputer\n",
    "from sklearn.ensemble import RandomForestClassifier\n",
    "from sklearn.metrics import classification_report, confusion_matrix\n",
    "from DataLoader import DataLoader\n",
    "from DataProcessor import DataProcessor\n",
    "\n",
    "Loader = DataLoader()"
   ]
  },
  {
   "cell_type": "code",
   "execution_count": null,
   "id": "138936e8",
   "metadata": {},
   "outputs": [],
   "source": [
    "# load a file\n",
    "df = Loader.load_dataset(\"C:\\Users\\PcVip\\.cache\\kagglehub\\datasets\\mkashifn\\nbaiot-dataset\\versions\\1\\1.benign\", file_path=\"csv\")"
   ]
  }
 ],
 "metadata": {
  "kernelspec": {
   "display_name": ".venv",
   "language": "python",
   "name": "python3"
  },
  "language_info": {
   "codemirror_mode": {
    "name": "ipython",
    "version": 3
   },
   "file_extension": ".py",
   "mimetype": "text/x-python",
   "name": "python",
   "nbconvert_exporter": "python",
   "pygments_lexer": "ipython3",
   "version": "3.10.11"
  }
 },
 "nbformat": 4,
 "nbformat_minor": 5
}
